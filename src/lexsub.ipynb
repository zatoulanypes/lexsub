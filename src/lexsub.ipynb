{
 "cells": [
  {
   "cell_type": "code",
   "execution_count": 2,
   "metadata": {},
   "outputs": [
    {
     "name": "stderr",
     "output_type": "stream",
     "text": [
      "c:\\uni\\lexsub\\venv\\lib\\site-packages\\tqdm\\auto.py:21: TqdmWarning: IProgress not found. Please update jupyter and ipywidgets. See https://ipywidgets.readthedocs.io/en/stable/user_install.html\n",
      "  from .autonotebook import tqdm as notebook_tqdm\n"
     ]
    }
   ],
   "source": [
    "from ruwordnet import RuWordNet\n",
    "from wiki_ru_wordnet import WikiWordnet\n",
    "from lexsub import LexSub\n",
    "from tqdm.auto import tqdm\n",
    "import pandas as pd"
   ]
  },
  {
   "cell_type": "code",
   "execution_count": 2,
   "metadata": {},
   "outputs": [],
   "source": [
    "def get_substitutions_for_dataset(lexsub, sent, tw, semtypes=[\"synonym\", \"hypernym\", \"hyponym\"]):\n",
    "    res = []\n",
    "    for semtype in semtypes:\n",
    "        for sub, score in lexsub.get_substitutes(sent, tw, semtype=semtype, topn=10):\n",
    "            if tw in sub.split():\n",
    "                continue\n",
    "            res.append({\n",
    "                \"target_word\": tw,\n",
    "                \"sentence\": sent,\n",
    "                \"substitute\": sub,\n",
    "                \"score\": score,\n",
    "                \"relation\": semtype,\n",
    "            })\n",
    "    return res"
   ]
  },
  {
   "cell_type": "code",
   "execution_count": 3,
   "metadata": {},
   "outputs": [],
   "source": [
    "models = [\"geowac_fasttextskipgram_300_5_2020\", \"ruscorpora_fasttextskipgram_300_2_2019\", \"tayga_fasttextcbow_300_10_2019\"]"
   ]
  },
  {
   "cell_type": "code",
   "execution_count": 4,
   "metadata": {},
   "outputs": [],
   "source": [
    "verbs = {\n",
    "    \"стоить\": [\n",
    "        \"Не стоит путать эти понятия… Или вам просто «удобно» их путать?\",\n",
    "        \"Альбомы будут стоить 9 долларов 95 центов.\"\n",
    "    ],\n",
    "    \"звать\": [\n",
    "        \"Сюжет блестящий, обычный (переводя на современный лад) клерк, Анатолий Новосельцев для того, чтобы подняться выше по карьерной лестнице, начинает ухаживать за «непробиваемой» для мужчин директором его фирмы, Людмилой Прокофьевной или, как ее зовут остальные работники, просто Мымра.\",\n",
    "        \"Или нет. Никого не звать, только вдвоем.\"\n",
    "    ],\n",
    "    \"кричать\": [\n",
    "        \"А первый кричит, тряся убитого: Леха, Леха, Леха!\",\n",
    "        \"Дед Андрей просто привык кричать, общаясь с мальчиком.\"\n",
    "    ],\n",
    "}\n",
    "\n",
    "adjs = {\n",
    "    \"близкий\": [\n",
    "        \"Наблюдения и интерпретация эффектов гравитационного микролинзирования галактических ядер звездами более близких галактик ― гравитационных линз.\",\n",
    "        \"А тут оба одновременно улыбнулись, и я вижу, что это близкие друг другу люди.\"\n",
    "    ],\n",
    "    \"верный\": [\n",
    "        \"Когда было время выпускаться из школы, было безумно грустно, мы все время плакали, потому что это вроде как детство и верные друзья, привычная домашняя атомсфера…\",\n",
    "        \"Очень верные, емкие слова, несущие основную смысловую нагрузку всего фильма.\"\n",
    "    ],\n",
    "    \"сильный\": [\n",
    "        \"Эле-Фантик почувствовал себя сильным и взрослым дядькой, вроде того, что видел во сне.\",\n",
    "        \"Это сильный аргумент в пользу того, что массивный компактный объект в центре Галактики ― единое темное тело, а не скопление отдельных объектов малой массы.\"\n",
    "    ],\n",
    "}\n",
    "\n",
    "nouns = {\n",
    "    \"вид\": [\n",
    "        \"Сейчас они имеют неприглядный вид и воспринимаются нами как пещеры естественного происхождения.\",\n",
    "        \"Еще один вид экстремального спорта, официально зарегистрированный, между прочим.\"\n",
    "    ],\n",
    "    \"сон\": [\n",
    "        \"А когда поучилась там, поняла, ну ее, школу, в кошмарных снах я ее теперь видеть буду.\",\n",
    "        \"А потом нагрянул кризис, и я оказалась в школе, так что с английский у меня на очень хорошем уровне, иногда во сне на нем говорю.\"\n",
    "    ],\n",
    "    \"подпись\": [\n",
    "        \"Вот ее портрет с подписью: Супружеская пара пустынных мокриц около своей норки.\",\n",
    "        \"Например, Ральф Шумахер весьма скептически оценил возможность выступления в одной команде со старшим братом и в дни Гран-при Европы поспешил поставить подпись под контрактом с Уильямсомна ближайшие три года.\"\n",
    "    ]\n",
    "}"
   ]
  },
  {
   "cell_type": "code",
   "execution_count": 5,
   "metadata": {},
   "outputs": [],
   "source": [
    "data = [nouns, adjs, verbs]"
   ]
  },
  {
   "cell_type": "code",
   "execution_count": null,
   "metadata": {},
   "outputs": [],
   "source": [
    "for model in models:\n",
    "    out = []\n",
    "    lexsub = LexSub(model, RuWordNet())\n",
    "    for pos in data:\n",
    "        for tw, sents in pos.items():\n",
    "            for sent in sents:\n",
    "                out.extend(get_substitutions_for_dataset(lexsub, sent, tw))\n",
    "    pd.DataFrame(out).to_excel(f\"out/results_{model}.xlsx\")"
   ]
  },
  {
   "cell_type": "code",
   "execution_count": null,
   "metadata": {},
   "outputs": [],
   "source": []
  }
 ],
 "metadata": {
  "kernelspec": {
   "display_name": "venv",
   "language": "python",
   "name": "python3"
  },
  "language_info": {
   "codemirror_mode": {
    "name": "ipython",
    "version": 3
   },
   "file_extension": ".py",
   "mimetype": "text/x-python",
   "name": "python",
   "nbconvert_exporter": "python",
   "pygments_lexer": "ipython3",
   "version": "3.7.9"
  },
  "orig_nbformat": 4
 },
 "nbformat": 4,
 "nbformat_minor": 2
}
